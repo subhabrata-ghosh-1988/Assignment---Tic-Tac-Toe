{
  "nbformat": 4,
  "nbformat_minor": 0,
  "metadata": {
    "colab": {
      "name": "TicTacToe_Agent.ipynb",
      "provenance": [],
      "collapsed_sections": [],
      "toc_visible": true
    },
    "kernelspec": {
      "display_name": "Python 3",
      "language": "python",
      "name": "python3"
    },
    "language_info": {
      "codemirror_mode": {
        "name": "ipython",
        "version": 3
      },
      "file_extension": ".py",
      "mimetype": "text/x-python",
      "name": "python",
      "nbconvert_exporter": "python",
      "pygments_lexer": "ipython3",
      "version": "3.7.3"
    }
  },
  "cells": [
    {
      "cell_type": "markdown",
      "metadata": {
        "id": "rznSDgbvGggG"
      },
      "source": [
        "## Tic-Tac-Toe Agent\n",
        "​\n",
        "In this notebook, you will learn to build an RL agent (using Q-learning) that learns to play Numerical Tic-Tac-Toe with odd numbers. The environment is playing randomly with the agent, i.e. its strategy is to put an even number randomly in an empty cell. The following is the layout of the notebook:\n",
        "        - Defining epsilon-greedy strategy\n",
        "        - Tracking state-action pairs for convergence\n",
        "        - Define hyperparameters for the Q-learning algorithm\n",
        "        - Generating episode and applying Q-update equation\n",
        "        - Checking convergence in Q-values"
      ]
    },
    {
      "cell_type": "markdown",
      "metadata": {
        "id": "8eDb8PxBGggH"
      },
      "source": [
        "#### Importing libraries\n",
        "Write the code to import Tic-Tac-Toe class from the environment file"
      ]
    },
    {
      "cell_type": "code",
      "metadata": {
        "id": "b7BXcWLij2Y1",
        "outputId": "7f497803-b203-45ef-ac29-710ad6dc2b89",
        "colab": {
          "base_uri": "https://localhost:8080/"
        }
      },
      "source": [
        "!git clone https://github.com/subhabrata-ghosh-1988/Assignment---Tic-Tac-Toe.git"
      ],
      "execution_count": 14,
      "outputs": [
        {
          "output_type": "stream",
          "text": [
            "fatal: destination path 'Assignment---Tic-Tac-Toe' already exists and is not an empty directory.\n"
          ],
          "name": "stdout"
        }
      ]
    },
    {
      "cell_type": "code",
      "metadata": {
        "id": "fuSSa35elzOb"
      },
      "source": [
        "ROOT_DIR = \"/content\""
      ],
      "execution_count": 15,
      "outputs": []
    },
    {
      "cell_type": "code",
      "metadata": {
        "id": "TqJ-DtqBlQwQ"
      },
      "source": [
        "import os\n",
        "import sys\n",
        "os.chdir('/content/Assignment---Tic-Tac-Toe')\n",
        "\n",
        "# To find local version of the library\n",
        "sys.path.append(os.path.join(ROOT_DIR, 'Assignment---Tic-Tac-Toe')) "
      ],
      "execution_count": 16,
      "outputs": []
    },
    {
      "cell_type": "code",
      "metadata": {
        "id": "6SFNYceFGggJ"
      },
      "source": [
        "# from <TC_Env> import <TicTacToe> - import your class from environment file\n",
        "from TCGame_Env import TicTacToe\n",
        "import collections\n",
        "import numpy as np\n",
        "import random\n",
        "import pickle\n",
        "import time\n",
        "from matplotlib import pyplot as plt"
      ],
      "execution_count": 17,
      "outputs": []
    },
    {
      "cell_type": "code",
      "metadata": {
        "id": "wYLQyopEG8nz"
      },
      "source": [
        "# Function to convert state array into a string to store it as keys in the dictionary\n",
        "# states in Q-dictionary will be of form: x-4-5-3-8-x-x-x-x\n",
        "#   x | 4 | 5\n",
        "#   ----------\n",
        "#   3 | 8 | x\n",
        "#   ----------\n",
        "#   x | x | x\n",
        "\n",
        "def Q_state(state):\n",
        "\n",
        "    return ('-'.join(str(e) for e in state)).replace('nan','x')"
      ],
      "execution_count": 18,
      "outputs": []
    },
    {
      "cell_type": "code",
      "metadata": {
        "id": "ZebMOoiVHBBr"
      },
      "source": [
        "# Defining a function which will return valid (all possible actions) actions corresponding to a state\n",
        "# Important to avoid errors during deployment.\n",
        "\n",
        "def valid_actions(state):\n",
        "\n",
        "    valid_Actions = []\n",
        "    \n",
        "    valid_Actions = [i for i in env.action_space(state)[0]] ###### -------please call your environment as env\n",
        "    return valid_Actions"
      ],
      "execution_count": 19,
      "outputs": []
    },
    {
      "cell_type": "code",
      "metadata": {
        "id": "IRciPUkYHDWf"
      },
      "source": [
        "# Defining a function which will add new Q-values to the Q-dictionary. \n",
        "def add_to_dict(state):\n",
        "    state1 = Q_state(state)\n",
        "    \n",
        "    valid_act = valid_actions(state)\n",
        "    if state1 not in Q_dict.keys():\n",
        "        for action in valid_act:\n",
        "            Q_dict[state1][action]=0"
      ],
      "execution_count": 20,
      "outputs": []
    },
    {
      "cell_type": "markdown",
      "metadata": {
        "id": "fNNi_EfHGggM"
      },
      "source": [
        "#### Epsilon-greedy strategy - Write your code here\n",
        "\n",
        "(you can build your epsilon-decay function similar to the one given at the end of the notebook)"
      ]
    },
    {
      "cell_type": "code",
      "metadata": {
        "id": "m0lMfqiJGggN"
      },
      "source": [
        "# Defining epsilon-greedy policy. You can choose any function epsilon-decay strategy\n",
        "def epsilon_greedy(state, time):\n",
        "    epsilon = min_epsilon + (max_epsilon - min_epsilon) * np.exp(-decay_rate*time)\n",
        "    # print(epsilon)\n",
        "    z = np.random.random()\n",
        "        \n",
        "    if z > epsilon:\n",
        "        state1 = Q_state(state)\n",
        "        action = max(Q_dict[state1],key=Q_dict[state1].get)   #Exploitation: this gets the action corresponding to max q-value of current state\n",
        "    else:\n",
        "        possible_action = [i for i in env.action_space(state)[0]]        \n",
        "        action = possible_action[np.random.choice(range(len(possible_action)))]    #Exploration: randomly choosing and action\n",
        "    \n",
        "    return action"
      ],
      "execution_count": 21,
      "outputs": []
    },
    {
      "cell_type": "markdown",
      "metadata": {
        "id": "H2kyQHOMGggR"
      },
      "source": [
        "#### Tracking the state-action pairs for checking convergence - write your code here"
      ]
    },
    {
      "cell_type": "code",
      "metadata": {
        "id": "qcxZ29vdGggS"
      },
      "source": [
        "# Initialise Q_dictionary as 'Q_dict' and States_tracked as 'States_track' (for convergence)\n",
        "Q_dict = collections.defaultdict(dict)\n",
        "States_track =collections.defaultdict(dict)"
      ],
      "execution_count": 22,
      "outputs": []
    },
    {
      "cell_type": "code",
      "metadata": {
        "id": "vs73iv8fHOxV"
      },
      "source": [
        "# Initialise states to be tracked\n",
        "def initialise_tracking_states():\n",
        "    Sample_Qvalues = [('x-x-x-x-x-x-x-x-x',(4,3)),('x-x-x-x-x-x-x-x-x',(2,7)),\n",
        "                       ('x-3-x-x-1-x-x-x-x',(7,5)),('x-5-x-x-x-x-5-7-x',(7,3))]    #select some 4 Q-values\n",
        "    for q_values in Sample_Qvalues:\n",
        "        state = q_values[0]\n",
        "        action = q_values[1]\n",
        "        States_track[state][action] = []"
      ],
      "execution_count": 23,
      "outputs": []
    },
    {
      "cell_type": "code",
      "metadata": {
        "id": "dAbwJDMVHpwl"
      },
      "source": [
        "#Defining a function to save the Q-dictionary as a pickle file\n",
        "\n",
        "def save_obj(obj, name ):\n",
        "    with open(name + '.pkl', 'wb') as f:\n",
        "        pickle.dump(obj, f, pickle.HIGHEST_PROTOCOL)"
      ],
      "execution_count": 24,
      "outputs": []
    },
    {
      "cell_type": "code",
      "metadata": {
        "id": "6Pyj7nMVHsBi"
      },
      "source": [
        "def save_tracking_states():\n",
        "    for state in States_track.keys():\n",
        "        for action in States_track[state].keys():\n",
        "            if state in Q_dict and action in Q_dict[state]:\n",
        "                States_track[state][action].append(Q_dict[state][action])"
      ],
      "execution_count": 25,
      "outputs": []
    },
    {
      "cell_type": "code",
      "metadata": {
        "id": "B_8xSluUHvew"
      },
      "source": [
        "initialise_tracking_states()"
      ],
      "execution_count": 26,
      "outputs": []
    },
    {
      "cell_type": "markdown",
      "metadata": {
        "id": "-iPt--E9GggV"
      },
      "source": [
        "#### Define hyperparameters  ---write your code here"
      ]
    },
    {
      "cell_type": "code",
      "metadata": {
        "id": "G0_f5czFGggW"
      },
      "source": [
        "EPISODES = 100000\n",
        "LR = 0.01                   # learning rate\n",
        "GAMMA = 0.9                # discount factor\n",
        "\n",
        "max_epsilon = 1.0\n",
        "min_epsilon = 0.001\n",
        "decay_rate = 0.001        # epsilon decay rate\n",
        "threshold = 300       # no of episodes after which states_tracked wwill be saved\n",
        "policy_threshold = 400   # no of episodes after which Q dictionary/table will be saved"
      ],
      "execution_count": 27,
      "outputs": []
    },
    {
      "cell_type": "markdown",
      "metadata": {
        "id": "Md6twJ7wGggh"
      },
      "source": [
        "### Q-update loop ---write your code here"
      ]
    },
    {
      "cell_type": "code",
      "metadata": {
        "id": "ldCgQuDNGggj"
      },
      "source": [
        "start_time = time.time()\n",
        "\n",
        "for episode in range(EPISODES):\n",
        "    ##### Start writing your code from the next line\n",
        "    env = TicTacToe() # call the environment\n",
        "    curr_state = env.state    \n",
        "    done = False  \n",
        "    add_to_dict(curr_state)  # adding the current state to dictionary\n",
        "\n",
        "    while done != True:  \n",
        "        curr_state1 = Q_state(curr_state)\n",
        "        curr_action = epsilon_greedy(curr_state, episode)   #epsilon method\n",
        "        next_state, reward, done = env.step(curr_state, curr_action) # fetching reward\n",
        "        next_state_temp = Q_state(next_state)\n",
        "        add_to_dict(next_state)\n",
        "\n",
        "\n",
        "        \n",
        "\n",
        "        # Updating rules\n",
        "        if done != True:\n",
        "            max_next = max(Q_dict[next_state_temp],key=Q_dict[next_state_temp].get)  \n",
        "                #this gets the action corresponding to max q-value of next state\n",
        "            Q_dict[curr_state1][curr_action] += LR * ((reward + (GAMMA*(Q_dict[next_state_temp][max_next])))\n",
        "                                                      - Q_dict[curr_state1][curr_action] ) \n",
        "        else:\n",
        "            Q_dict[curr_state1][curr_action] += LR * ((reward - Q_dict[curr_state1][curr_action]))\n",
        "\n",
        "        # moving to next state\n",
        "        curr_state = next_state\n",
        "        \n",
        "     #Tracking the states   \n",
        "    if ((episode+1)%threshold)==0:\n",
        "        save_tracking_states()\n",
        "        save_obj(States_track,'States_tracking')\n",
        "#         print(episode) \n",
        "\n",
        "    if ((episode+1)% policy_threshold) == 0:\n",
        "        save_obj(Q_dict,'Policy_Q_dict')  \n",
        "        \n",
        "    \n",
        "elapsed_time = time.time() - start_time\n",
        "save_obj(States_track,'States_tracked')   \n",
        "save_obj(Q_dict,'Policy')"
      ],
      "execution_count": null,
      "outputs": []
    },
    {
      "cell_type": "markdown",
      "metadata": {
        "id": "t6eMFbb8Ggg2"
      },
      "source": [
        "#### Check the Q-dictionary"
      ]
    },
    {
      "cell_type": "code",
      "metadata": {
        "id": "fr9d2fcVGgg4"
      },
      "source": [
        "Q_dict"
      ],
      "execution_count": null,
      "outputs": []
    },
    {
      "cell_type": "code",
      "metadata": {
        "id": "F1tnDJWkGgg9"
      },
      "source": [
        "len(Q_dict)"
      ],
      "execution_count": null,
      "outputs": []
    },
    {
      "cell_type": "code",
      "metadata": {
        "id": "cFgUqfcQGghB"
      },
      "source": [
        "# try checking for one of the states - that which action your agent thinks is the best  -----This will not be evaluated"
      ],
      "execution_count": null,
      "outputs": []
    },
    {
      "cell_type": "markdown",
      "metadata": {
        "id": "KGPZEQDFGghG"
      },
      "source": [
        "#### Check the states tracked for Q-values convergence\n",
        "(non-evaluative)"
      ]
    },
    {
      "cell_type": "code",
      "metadata": {
        "id": "9s1Tvz8HGghH"
      },
      "source": [
        "# Write the code for plotting the graphs for state-action pairs tracked\n",
        "plt.figure(0, figsize=(16,7))\n",
        "\n",
        "x_axis = np.asarray(range(0, len(States_track['x-x-x-x-x-x-x-x-x'][(4,3)])))\n",
        "plt.subplot(221)\n",
        "plt.plot(x_axis,np.asarray(States_track['x-x-x-x-x-x-x-x-x'][(4,3)]))\n",
        "plt.show\n",
        "\n",
        "x_axis = np.asarray(range(0, len(States_track['x-3-x-x-1-x-x-x-x'][(7,5)])))\n",
        "plt.subplot(222)\n",
        "plt.plot(x_axis,np.asarray(States_track['x-3-x-x-1-x-x-x-x'][(7,5)]))\n",
        "plt.show\n",
        "\n",
        "x_axis = np.asarray(range(0, len(States_track['x-x-x-x-x-x-x-x-x'][(2,7)])))\n",
        "plt.subplot(223)\n",
        "plt.plot(x_axis,np.asarray(States_track['x-x-x-x-x-x-x-x-x'][(2,7)]))\n",
        "plt.show\n",
        "\n",
        "x_axis = np.asarray(range(0, len(States_track['x-5-x-x-x-x-5-7-x'][(7,3)])))\n",
        "plt.subplot(224)\n",
        "plt.plot(x_axis,np.asarray(States_track['x-5-x-x-x-x-5-7-x'][(7,3)]))\n",
        "plt.show"
      ],
      "execution_count": null,
      "outputs": []
    },
    {
      "cell_type": "markdown",
      "metadata": {
        "id": "b2Opp8_NITkC"
      },
      "source": [
        "### Epsilon - decay check"
      ]
    },
    {
      "cell_type": "code",
      "metadata": {
        "id": "gQ_D_JsuGghR"
      },
      "source": [
        "time = np.arange(0,100000)\n",
        "epsilon = []\n",
        "for i in range(0,100000):\n",
        "    epsilon.append(min_epsilon + (max_epsilon - min_epsilon) * np.exp(-0.000001*i))"
      ],
      "execution_count": null,
      "outputs": []
    },
    {
      "cell_type": "code",
      "metadata": {
        "id": "J7c2xADQGghV"
      },
      "source": [
        "plt.plot(time, epsilon)\n",
        "plt.show()"
      ],
      "execution_count": null,
      "outputs": []
    },
    {
      "cell_type": "code",
      "metadata": {
        "id": "59BRf43IJiQ1"
      },
      "source": [
        ""
      ],
      "execution_count": null,
      "outputs": []
    }
  ]
}